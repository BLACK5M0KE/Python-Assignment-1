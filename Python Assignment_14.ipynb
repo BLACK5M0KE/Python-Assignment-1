{
 "cells": [
  {
   "cell_type": "code",
   "execution_count": null,
   "id": "d29c5ff7-7dca-49e0-838a-50aa445faeb0",
   "metadata": {},
   "outputs": [],
   "source": [
    "from PIL import Image\n",
    "\n",
    "# 1. What does RGBA stand for?\n",
    "# RGBA stands for Red, Green, Blue, and Alpha (opacity/transparency).\n",
    "# It is a color model used in digital imaging to define the color and transparency of a pixel.\n",
    "\n",
    "# 2. From the Pillow module, how do you get the RGBA value of any image?\n",
    "# You can use the `.getpixel()` method to get the RGBA value of a pixel.\n",
    "image = Image.open('image.png')  # Load an image\n",
    "rgba_value = image.getpixel((x, y))  # Get the RGBA value of the pixel at position (x, y)\n",
    "print(rgba_value)\n",
    "\n",
    "# 3. What is a box tuple, and how does it work?\n",
    "# A box tuple is a tuple that represents the coordinates of a rectangular region in an image.\n",
    "# It typically contains four values: (left, upper, right, lower), which define the corners of the box.\n",
    "box = (100, 100, 200, 200)  # A box representing a region from (100, 100) to (200, 200)\n",
    "cropped_image = image.crop(box)  # Crop the image using the box tuple\n",
    "\n",
    "# 4. How can you find out the width and height of an Image object?\n",
    "# You can use the `width` and `height` attributes of the Image object.\n",
    "width, height = image.size  # Returns a tuple (width, height)\n",
    "print(\"Width:\", width)\n",
    "print(\"Height:\", height)\n",
    "\n",
    "# 5. What method would you call to get an Image object for a 100×100 image, excluding the lower-left quarter of it?\n",
    "# You can use the `crop()` method with a box tuple that excludes the lower-left quarter of the image.\n",
    "width, height = image.size\n",
    "box = (0, 0, width // 2, height // 2)  # Define the box that excludes the lower-left quarter\n",
    "cropped_image = image.crop(box)\n",
    "cropped_image.show()  # Show the cropped image\n",
    "\n",
    "# 6. After making changes to an Image object, how could you save it as an image file?\n",
    "# You can use the `save()` method to save the modified Image object.\n",
    "cropped_image.save('modified_image.png')  # Save the cropped image as a PNG file\n",
    "\n",
    "# 7. What module contains Pillow’s shape-drawing code?\n",
    "# Pillow's shape-drawing functions are found in the `ImageDraw` module.\n",
    "from PIL import ImageDraw\n",
    "\n",
    "# 8. Image objects do not have drawing methods. What kind of object does? How do you get this kind of object?\n",
    "# The `ImageDraw` object allows you to draw shapes and text on an image.\n",
    "# You can create an `ImageDraw` object by passing an Image object to `ImageDraw.Draw()`.\n",
    "draw = ImageDraw.Draw(image)  # Create a drawing object for the image\n"
   ]
  }
 ],
 "metadata": {
  "kernelspec": {
   "display_name": "Python [conda env:base] *",
   "language": "python",
   "name": "conda-base-py"
  },
  "language_info": {
   "codemirror_mode": {
    "name": "ipython",
    "version": 3
   },
   "file_extension": ".py",
   "mimetype": "text/x-python",
   "name": "python",
   "nbconvert_exporter": "python",
   "pygments_lexer": "ipython3",
   "version": "3.12.7"
  }
 },
 "nbformat": 4,
 "nbformat_minor": 5
}
