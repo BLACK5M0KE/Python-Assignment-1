{
 "cells": [
  {
   "cell_type": "code",
   "execution_count": null,
   "id": "85798b9a-fb8e-497e-95ed-c464a3bf66cb",
   "metadata": {},
   "outputs": [],
   "source": [
    "# 1. What advantages do Excel spreadsheets have over CSV spreadsheets?\n",
    "# - Excel can store multiple sheets (worksheets) in a single file, while CSV only supports one sheet.\n",
    "# - Excel supports rich formatting options (e.g., font styles, colors, conditional formatting), which CSV does not.\n",
    "# - Excel supports more advanced features like formulas, charts, pivot tables, and data validation, while CSV is just raw data.\n",
    "\n",
    "# 2. What do you pass to csv.reader() and csv.writer() to create reader and writer objects?\n",
    "import csv\n",
    "\n",
    "# You pass a file object to both csv.reader() and csv.writer()\n",
    "with open('data.csv', 'r') as file:\n",
    "    reader = csv.reader(file)  # reader object created\n",
    "    for row in reader:\n",
    "        print(row)  # Output each row\n",
    "\n",
    "with open('data.csv', 'w', newline='') as file:\n",
    "    writer = csv.writer(file)  # writer object created\n",
    "    writer.writerow(['Name', 'Age', 'City'])  # Writing a single row\n",
    "\n",
    "# 3. What modes do File objects for reader and writer objects need to be opened in?\n",
    "# - For reading a CSV file, use 'r' (read) mode.\n",
    "# - For writing to a CSV file, use 'w' (write) mode. It is recommended to use `newline=''` to avoid extra blank lines.\n",
    "# - To append data to an existing CSV file, use 'a' (append) mode.\n",
    "with open('data.csv', 'r') as file:  # Open in read mode\n",
    "    reader = csv.reader(file)\n",
    "\n",
    "with open('data.csv', 'w', newline='') as file:  # Open in write mode\n",
    "    writer = csv.writer(file)\n",
    "\n",
    "# 4. What method takes a list argument and writes it to a CSV file?\n",
    "# - `writerow()` method in csv.writer() takes a list and writes it as a row in the CSV file.\n",
    "with open('data.csv', 'w', newline='') as file:\n",
    "    writer = csv.writer(file)\n",
    "    writer.writerow(['Name', 'Age', 'City'])  # Writes a single row with list elements\n",
    "\n",
    "# 5. What do the keyword arguments delimiter and line terminator do?\n",
    "# - `delimiter`: Defines the character used to separate fields (default is a comma ',').\n",
    "# - `lineterminator`: Defines the character(s) used to terminate rows (default is '\\n').\n",
    "with open('data.csv', 'w', newline='') as file:\n",
    "    writer = csv.writer(file, delimiter=';', lineterminator='\\r\\n')\n",
    "    writer.writerow(['Name', 'Age', 'City'])  # Using semicolon as delimiter and carriage return-newline for line termination\n",
    "\n",
    "# 6. What function takes a string of JSON data and returns a Python data structure?\n",
    "import json\n",
    "\n",
    "# `json.loads()` function takes a JSON string and converts it to a Python data structure (e.g., dictionary, list).\n",
    "json_data = '{\"name\": \"Alice\", \"age\": 30, \"city\": \"New York\"}'\n",
    "python_data = json.loads(json_data)\n",
    "print(python_data)  # {'name': 'Alice', 'age': 30, 'city': 'New York'}\n",
    "\n",
    "# 7. What function takes a Python data structure and returns a string of JSON data?\n",
    "# `json.dumps()` converts a Python object (e.g., dictionary, list) to a JSON-formatted string.\n",
    "python_data = {'name': 'Alice', 'age': 30, 'city': 'New York'}\n",
    "json_data = json.dumps(python_data)\n",
    "print(json_data)  # '{\"name\": \"Alice\", \"age\": 30, \"city\": \"New York\"}'\n"
   ]
  }
 ],
 "metadata": {
  "kernelspec": {
   "display_name": "Python [conda env:base] *",
   "language": "python",
   "name": "conda-base-py"
  },
  "language_info": {
   "codemirror_mode": {
    "name": "ipython",
    "version": 3
   },
   "file_extension": ".py",
   "mimetype": "text/x-python",
   "name": "python",
   "nbconvert_exporter": "python",
   "pygments_lexer": "ipython3",
   "version": "3.12.7"
  }
 },
 "nbformat": 4,
 "nbformat_minor": 5
}
