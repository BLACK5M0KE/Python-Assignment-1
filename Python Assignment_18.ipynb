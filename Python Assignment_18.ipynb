{
 "cells": [
  {
   "cell_type": "code",
   "execution_count": 7,
   "id": "d4386145-5327-448b-9bf0-e4b76f5a7e3e",
   "metadata": {},
   "outputs": [
    {
     "ename": "ModuleNotFoundError",
     "evalue": "No module named 'zoo'",
     "output_type": "error",
     "traceback": [
      "\u001b[1;31m---------------------------------------------------------------------------\u001b[0m",
      "\u001b[1;31mModuleNotFoundError\u001b[0m                       Traceback (most recent call last)",
      "Cell \u001b[1;32mIn[7], line 6\u001b[0m\n\u001b[0;32m      3\u001b[0m     \u001b[38;5;28mprint\u001b[39m(\u001b[38;5;124m\"\u001b[39m\u001b[38;5;124mOpen 9-5 daily\u001b[39m\u001b[38;5;124m\"\u001b[39m)\n\u001b[0;32m      5\u001b[0m \u001b[38;5;66;03m# Task 1: Call hours() function from zoo module\u001b[39;00m\n\u001b[1;32m----> 6\u001b[0m \u001b[38;5;28;01mimport\u001b[39;00m \u001b[38;5;21;01mzoo\u001b[39;00m\n\u001b[0;32m      7\u001b[0m zoo\u001b[38;5;241m.\u001b[39mhours()\n\u001b[0;32m      9\u001b[0m \u001b[38;5;66;03m# Task 2: Import zoo as menagerie and call hours()\u001b[39;00m\n",
      "\u001b[1;31mModuleNotFoundError\u001b[0m: No module named 'zoo'"
     ]
    }
   ],
   "source": [
    "# zoo.py\n",
    "def hours():\n",
    "    print(\"Open 9-5 daily\")\n",
    "\n",
    "# Task 1: Call hours() function from zoo module\n",
    "import zoo\n",
    "zoo.hours()\n",
    "\n",
    "# Task 2: Import zoo as menagerie and call hours()\n",
    "import zoo as menagerie\n",
    "menagerie.hours()\n",
    "\n",
    "# Task 3: Explicitly import and call hours() from zoo\n",
    "from zoo import hours\n",
    "hours()\n",
    "\n",
    "# Task 4: Import hours() as info and call it\n",
    "from zoo import hours as info\n",
    "info()\n",
    "\n",
    "# Task 5: Create a plain dictionary with the key-value pairs 'a': 1, 'b': 2, and 'c': 3, and print it out\n",
    "plain_dict = {'a': 1, 'b': 2, 'c': 3}\n",
    "print(\"Plain Dictionary:\", plain_dict)\n",
    "\n",
    "# Task 6: Create an OrderedDict called fancy from the same pairs listed in Task 5 and print it\n",
    "from collections import OrderedDict\n",
    "fancy = OrderedDict([('a', 1), ('b', 2), ('c', 3)])\n",
    "print(\"OrderedDict:\", fancy)\n",
    "\n",
    "# Task 7: Create a defaultdict called dict_of_lists and append a value to it\n",
    "from collections import defaultdict\n",
    "dict_of_lists = defaultdict(list)\n",
    "dict_of_lists['a'].append('something for a')\n",
    "print(\"DefaultDict for 'a':\", dict_of_lists['a'])\n"
   ]
  },
  {
   "cell_type": "code",
   "execution_count": null,
   "id": "86c2a58d-6b65-4328-a43a-c739110c34c3",
   "metadata": {},
   "outputs": [],
   "source": []
  }
 ],
 "metadata": {
  "kernelspec": {
   "display_name": "Python [conda env:base] *",
   "language": "python",
   "name": "conda-base-py"
  },
  "language_info": {
   "codemirror_mode": {
    "name": "ipython",
    "version": 3
   },
   "file_extension": ".py",
   "mimetype": "text/x-python",
   "name": "python",
   "nbconvert_exporter": "python",
   "pygments_lexer": "ipython3",
   "version": "3.12.7"
  }
 },
 "nbformat": 4,
 "nbformat_minor": 5
}
