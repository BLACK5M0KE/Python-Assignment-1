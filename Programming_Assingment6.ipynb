{
 "cells": [
  {
   "cell_type": "code",
   "execution_count": 3,
   "id": "b44ad0fa-cde9-4d2a-b154-cb4ad3f71eff",
   "metadata": {},
   "outputs": [
    {
     "name": "stdin",
     "output_type": "stream",
     "text": [
      "Enter the number of terms in the Fibonacci sequence:  6\n"
     ]
    },
    {
     "name": "stdout",
     "output_type": "stream",
     "text": [
      "Fibonacci sequence:\n",
      "0 1 1 2 3 5 "
     ]
    },
    {
     "name": "stdin",
     "output_type": "stream",
     "text": [
      "\n",
      "Enter a number to find its factorial:  25\n"
     ]
    },
    {
     "name": "stdout",
     "output_type": "stream",
     "text": [
      "The factorial of 25 is: 15511210043330985984000000\n"
     ]
    },
    {
     "name": "stdin",
     "output_type": "stream",
     "text": [
      "\n",
      "Enter your weight in kg:  66\n",
      "Enter your height in meters:  178\n"
     ]
    },
    {
     "name": "stdout",
     "output_type": "stream",
     "text": [
      "Your Body Mass Index (BMI) is: 0.00\n"
     ]
    },
    {
     "name": "stdin",
     "output_type": "stream",
     "text": [
      "\n",
      "Enter a number to calculate its natural logarithm:  96\n"
     ]
    },
    {
     "name": "stdout",
     "output_type": "stream",
     "text": [
      "The natural logarithm of 96.0 is: 4.564348191467836\n"
     ]
    },
    {
     "name": "stdin",
     "output_type": "stream",
     "text": [
      "\n",
      "Enter a number to find the cube sum of first n natural numbers:  6\n"
     ]
    },
    {
     "name": "stdout",
     "output_type": "stream",
     "text": [
      "The cube sum of the first 6 natural numbers is: 441\n"
     ]
    }
   ],
   "source": [
    "# 1. Write a Python Program to Display Fibonacci Sequence Using Recursion\n",
    "def fibonacci(n):\n",
    "    if n <= 1:\n",
    "        return n\n",
    "    else:\n",
    "        return fibonacci(n - 1) + fibonacci(n - 2)\n",
    "\n",
    "n = int(input(\"Enter the number of terms in the Fibonacci sequence: \"))\n",
    "print(\"Fibonacci sequence:\")\n",
    "for i in range(n):\n",
    "    print(fibonacci(i), end=\" \")\n",
    "\n",
    "# 2. Write a Python Program to Find Factorial of Number Using Recursion\n",
    "def factorial(n):\n",
    "    if n == 0 or n == 1:\n",
    "        return 1\n",
    "    else:\n",
    "        return n * factorial(n - 1)\n",
    "\n",
    "num = int(input(\"\\nEnter a number to find its factorial: \"))\n",
    "print(f\"The factorial of {num} is: {factorial(num)}\")\n",
    "\n",
    "# 3. Write a Python Program to calculate your Body Mass Index (BMI)\n",
    "def calculate_bmi(weight, height):\n",
    "    return weight / (height ** 2)\n",
    "\n",
    "weight = float(input(\"\\nEnter your weight in kg: \"))\n",
    "height = float(input(\"Enter your height in meters: \"))\n",
    "bmi = calculate_bmi(weight, height)\n",
    "print(f\"Your Body Mass Index (BMI) is: {bmi:.2f}\")\n",
    "\n",
    "# 4. Write a Python Program to calculate the natural logarithm of any number\n",
    "import math\n",
    "\n",
    "def natural_logarithm(number):\n",
    "    if number > 0:\n",
    "        return math.log(number)\n",
    "    else:\n",
    "        return \"Error: Input should be a positive number.\"\n",
    "\n",
    "num = float(input(\"\\nEnter a number to calculate its natural logarithm: \"))\n",
    "print(f\"The natural logarithm of {num} is: {natural_logarithm(num)}\")\n",
    "\n",
    "# 5. Write a Python Program for cube sum of first n natural numbers\n",
    "def cube_sum(n):\n",
    "    return sum(i**3 for i in range(1, n + 1))\n",
    "\n",
    "n = int(input(\"\\nEnter a number to find the cube sum of first n natural numbers: \"))\n",
    "print(f\"The cube sum of the first {n} natural numbers is: {cube_sum(n)}\")\n"
   ]
  },
  {
   "cell_type": "code",
   "execution_count": null,
   "id": "1332bb31-ccb0-4df5-9349-6643b3b5307c",
   "metadata": {},
   "outputs": [],
   "source": []
  }
 ],
 "metadata": {
  "kernelspec": {
   "display_name": "Python [conda env:base] *",
   "language": "python",
   "name": "conda-base-py"
  },
  "language_info": {
   "codemirror_mode": {
    "name": "ipython",
    "version": 3
   },
   "file_extension": ".py",
   "mimetype": "text/x-python",
   "name": "python",
   "nbconvert_exporter": "python",
   "pygments_lexer": "ipython3",
   "version": "3.12.7"
  }
 },
 "nbformat": 4,
 "nbformat_minor": 5
}
