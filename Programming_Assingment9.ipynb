{
 "cells": [
  {
   "cell_type": "code",
   "execution_count": 2,
   "id": "7da1718b-a3c2-432d-aa47-a86381ea9559",
   "metadata": {},
   "outputs": [
    {
     "name": "stdout",
     "output_type": "stream",
     "text": [
      "Disarium numbers between 1 and 100:\n",
      "1 2 3 4 5 6 7 8 9 89 \n",
      "Happy numbers between 1 and 100:\n",
      "1 7 10 13 19 23 28 31 32 44 49 68 70 79 82 86 91 94 97 100 \n",
      "Harshad numbers between 1 and 100:\n",
      "1 2 3 4 5 6 7 8 9 10 12 18 20 21 24 27 30 36 40 42 45 48 50 54 60 63 70 72 80 81 84 90 100 \n",
      "Pronic numbers between 1 and 100:\n",
      "2 6 12 20 30 42 56 72 90 \n"
     ]
    }
   ],
   "source": [
    "# 1. Python program to check if the given number is a Disarium Number\n",
    "def is_disarium(n):\n",
    "    num_str = str(n)\n",
    "    sum_digits = sum(int(digit) ** (i + 1) for i, digit in enumerate(num_str))\n",
    "    return sum_digits == n\n",
    "\n",
    "# 2. Python program to print all disarium numbers between 1 to 100\n",
    "def print_disarium_numbers():\n",
    "    print(\"Disarium numbers between 1 and 100:\")\n",
    "    for i in range(1, 101):\n",
    "        if is_disarium(i):\n",
    "            print(i, end=\" \")\n",
    "    print()\n",
    "\n",
    "# 3. Python program to check if the given number is Happy Number\n",
    "def is_happy(n):\n",
    "    seen = set()\n",
    "    while n != 1 and n not in seen:\n",
    "        seen.add(n)\n",
    "        n = sum(int(digit) ** 2 for digit in str(n))\n",
    "    return n == 1\n",
    "\n",
    "# 4. Python program to print all happy numbers between 1 and 100\n",
    "def print_happy_numbers():\n",
    "    print(\"Happy numbers between 1 and 100:\")\n",
    "    for i in range(1, 101):\n",
    "        if is_happy(i):\n",
    "            print(i, end=\" \")\n",
    "    print()\n",
    "\n",
    "# 5. Python program to determine whether the given number is a Harshad Number\n",
    "def is_harshad(n):\n",
    "    sum_digits = sum(int(digit) for digit in str(n))\n",
    "    return n % sum_digits == 0\n",
    "\n",
    "# 6. Python program to print all Harshad numbers between 1 and 100\n",
    "def print_harshad_numbers():\n",
    "    print(\"Harshad numbers between 1 and 100:\")\n",
    "    for i in range(1, 101):\n",
    "        if is_harshad(i):\n",
    "            print(i, end=\" \")\n",
    "    print()\n",
    "\n",
    "# 7. Python program to print all pronic numbers between 1 and 100\n",
    "def is_pronic(n):\n",
    "    x = 0\n",
    "    while x * (x + 1) <= n:\n",
    "        if x * (x + 1) == n:\n",
    "            return True\n",
    "        x += 1\n",
    "    return False\n",
    "\n",
    "def print_pronic_numbers():\n",
    "    print(\"Pronic numbers between 1 and 100:\")\n",
    "    for i in range(1, 101):\n",
    "        if is_pronic(i):\n",
    "            print(i, end=\" \")\n",
    "    print()\n",
    "\n",
    "# Calling all the functions to display the numbers\n",
    "print_disarium_numbers()\n",
    "print_happy_numbers()\n",
    "print_harshad_numbers()\n",
    "print_pronic_numbers()\n"
   ]
  },
  {
   "cell_type": "code",
   "execution_count": null,
   "id": "03c1f873-8904-45d3-8d02-d9af4cfe3af0",
   "metadata": {},
   "outputs": [],
   "source": []
  }
 ],
 "metadata": {
  "kernelspec": {
   "display_name": "Python [conda env:base] *",
   "language": "python",
   "name": "conda-base-py"
  },
  "language_info": {
   "codemirror_mode": {
    "name": "ipython",
    "version": 3
   },
   "file_extension": ".py",
   "mimetype": "text/x-python",
   "name": "python",
   "nbconvert_exporter": "python",
   "pygments_lexer": "ipython3",
   "version": "3.12.7"
  }
 },
 "nbformat": 4,
 "nbformat_minor": 5
}
