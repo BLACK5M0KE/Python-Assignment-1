{
 "cells": [
  {
   "cell_type": "code",
   "execution_count": null,
   "id": "54c88b61-29b4-48f2-ae20-4262756f4bb1",
   "metadata": {},
   "outputs": [],
   "source": [
    "# 1. To what does a relative path refer?\n",
    "# A relative path refers to the location of a file or directory relative to the current working directory.\n",
    "# It does not begin with a root directory or a drive letter. For example: \"folder/file.txt\".\n",
    "\n",
    "# 2. What does an absolute path start with in your operating system?\n",
    "# An absolute path begins with the root directory of the file system or a drive letter (on Windows).\n",
    "# On Windows: 'C:\\folder\\file.txt'\n",
    "# On Linux/macOS: '/home/user/folder/file.txt'\n",
    "\n",
    "# 3. What do the functions os.getcwd() and os.chdir() do?\n",
    "import os\n",
    "# os.getcwd() returns the current working directory (CWD).\n",
    "current_directory = os.getcwd()\n",
    "# os.chdir() changes the current working directory to the specified path.\n",
    "os.chdir('/path/to/directory')\n",
    "\n",
    "# 4. What are the . and .. folders?\n",
    "# The `.` (dot) refers to the current directory.\n",
    "# The `..` (double dot) refers to the parent directory.\n",
    "# These are used to navigate through directories in relative paths.\n",
    "\n",
    "# 5. In C:\\bacon\\eggs\\spam.txt, which part is the dir name, and which part is the base name?\n",
    "# 'C:\\bacon\\eggs' is the directory name, and 'spam.txt' is the base name (filename).\n",
    "import os\n",
    "dir_name, base_name = os.path.split('C:/bacon/eggs/spam.txt')\n",
    "print(dir_name)  # Output: 'C:/bacon/eggs'\n",
    "print(base_name)  # Output: 'spam.txt'\n",
    "\n",
    "# 6. What are the three “mode” arguments that can be passed to the open() function?\n",
    "# The three common mode arguments are:\n",
    "# 'r'  -> Read (default mode)\n",
    "# 'w'  -> Write (creates a new file if it doesn't exist or truncates an existing file)\n",
    "# 'a'  -> Append (opens file for writing, appending to the end of the file)\n",
    "file = open('example.txt', 'r')  # Example of opening a file in read mode\n",
    "\n",
    "# 7. What happens if an existing file is opened in write mode?\n",
    "# If an existing file is opened in write mode ('w'), it is truncated (erased) and overwritten.\n",
    "# If the file doesn't exist, it is created.\n",
    "\n",
    "# 8. How do you tell the difference between read() and readlines()?\n",
    "# `read()` reads the entire file content as a single string.\n",
    "# `readlines()` reads the file and returns a list where each element is a line in the file.\n",
    "with open('file.txt', 'r') as f:\n",
    "    content = f.read()      # Reads entire file as string\n",
    "    lines = f.readlines()   # Reads file as a list of lines\n",
    "\n",
    "# 9. What data structure does a shelf value resemble?\n",
    "# A shelf value resembles a dictionary. It is a persistent, dictionary-like object that can store Python objects.\n",
    "import shelve\n",
    "with shelve.open('my_shelf') as shelf:\n",
    "    shelf['key'] = 'value'  # shelf behaves like a dictionary\n",
    "    print(shelf['key'])      # Output: 'value'\n"
   ]
  }
 ],
 "metadata": {
  "kernelspec": {
   "display_name": "Python [conda env:base] *",
   "language": "python",
   "name": "conda-base-py"
  },
  "language_info": {
   "codemirror_mode": {
    "name": "ipython",
    "version": 3
   },
   "file_extension": ".py",
   "mimetype": "text/x-python",
   "name": "python",
   "nbconvert_exporter": "python",
   "pygments_lexer": "ipython3",
   "version": "3.12.7"
  }
 },
 "nbformat": 4,
 "nbformat_minor": 5
}
