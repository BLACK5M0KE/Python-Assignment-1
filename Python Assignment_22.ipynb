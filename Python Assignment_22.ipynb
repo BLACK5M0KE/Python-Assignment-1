{
 "cells": [
  {
   "cell_type": "code",
   "execution_count": 2,
   "id": "0b804676-a30d-4374-9de2-bb3556cad9d8",
   "metadata": {},
   "outputs": [
    {
     "name": "stdout",
     "output_type": "stream",
     "text": [
      "iNeuron\n",
      "Explanation: The variable X is global, so it's accessible inside the function.\n",
      "iNeuron\n",
      "Explanation: The X inside func is local to the function. The global X remains 'iNeuron'.\n",
      "NI\n",
      "iNeuron\n",
      "Explanation: The X inside func is local, so it prints 'NI'. The global X remains 'iNeuron'.\n",
      "NI\n",
      "Explanation: The 'global' keyword allows the function to modify the global X.\n",
      "NI\n",
      "iNeuron\n",
      "Explanation: The nested function prints the local X from func. The global X remains 'iNeuron'.\n",
      "Spam\n",
      "Explanation: The 'nonlocal' keyword allows modification of the nearest enclosing variable (X in func).\n"
     ]
    }
   ],
   "source": [
    "# Example 1: Global variable and function accessing it\n",
    "X = 'iNeuron'\n",
    "\n",
    "def func():\n",
    "    print(X)\n",
    "\n",
    "func()  # Output: iNeuron\n",
    "print(\"Explanation: The variable X is global, so it's accessible inside the function.\")\n",
    "\n",
    "# Example 2: Local variable inside function\n",
    "X = 'iNeuron'\n",
    "\n",
    "def func():\n",
    "    X = 'NI!'  # Local variable inside func\n",
    "\n",
    "func()\n",
    "print(X)  # Output: iNeuron\n",
    "print(\"Explanation: The X inside func is local to the function. The global X remains 'iNeuron'.\")\n",
    "\n",
    "# Example 3: Local variable inside function and printing outside\n",
    "X = 'iNeuron'\n",
    "\n",
    "def func():\n",
    "    X = 'NI'  # Local variable inside func\n",
    "    print(X)  # Output: NI\n",
    "\n",
    "func()  # Output: NI\n",
    "print(X)  # Output: iNeuron\n",
    "print(\"Explanation: The X inside func is local, so it prints 'NI'. The global X remains 'iNeuron'.\")\n",
    "\n",
    "# Example 4: Using the global keyword\n",
    "X = 'iNeuron'\n",
    "\n",
    "def func():\n",
    "    global X  # Makes X refer to the global X\n",
    "    X = 'NI'\n",
    "\n",
    "func()\n",
    "print(X)  # Output: NI\n",
    "print(\"Explanation: The 'global' keyword allows the function to modify the global X.\")\n",
    "\n",
    "# Example 5: Nested function with local variable\n",
    "X = 'iNeuron'\n",
    "\n",
    "def func():\n",
    "    X = 'NI'  # Local variable in func\n",
    "    def nested():\n",
    "        print(X)  # Prints the local X from func\n",
    "    nested()\n",
    "\n",
    "func()  # Output: NI\n",
    "print(X)  # Output: iNeuron\n",
    "print(\"Explanation: The nested function prints the local X from func. The global X remains 'iNeuron'.\")\n",
    "\n",
    "# Example 6: Using the nonlocal keyword\n",
    "def func():\n",
    "    X = 'NI'  # Local variable in func\n",
    "    def nested():\n",
    "        nonlocal X  # Refers to the X in func (nonlocal scope)\n",
    "        X = 'Spam'  # Modifies the nonlocal X\n",
    "    nested()\n",
    "    print(X)  # Output: Spam\n",
    "\n",
    "func()\n",
    "print(\"Explanation: The 'nonlocal' keyword allows modification of the nearest enclosing variable (X in func).\")\n",
    "\n"
   ]
  },
  {
   "cell_type": "code",
   "execution_count": null,
   "id": "eeb7ffbf-f23c-4e13-8217-ac07b790a2fa",
   "metadata": {},
   "outputs": [],
   "source": []
  }
 ],
 "metadata": {
  "kernelspec": {
   "display_name": "Python [conda env:base] *",
   "language": "python",
   "name": "conda-base-py"
  },
  "language_info": {
   "codemirror_mode": {
    "name": "ipython",
    "version": 3
   },
   "file_extension": ".py",
   "mimetype": "text/x-python",
   "name": "python",
   "nbconvert_exporter": "python",
   "pygments_lexer": "ipython3",
   "version": "3.12.7"
  }
 },
 "nbformat": 4,
 "nbformat_minor": 5
}
