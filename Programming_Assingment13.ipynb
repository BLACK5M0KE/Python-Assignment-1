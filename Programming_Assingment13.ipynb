{
 "cells": [
  {
   "cell_type": "code",
   "execution_count": 2,
   "id": "7bc4eaec-c8f4-467b-b17e-eb2a52c37aaa",
   "metadata": {},
   "outputs": [
    {
     "name": "stdout",
     "output_type": "stream",
     "text": [
      "Question 1: Calculate Q using the given formula\n"
     ]
    },
    {
     "name": "stdin",
     "output_type": "stream",
     "text": [
      "Enter comma separated values of D:  50\n"
     ]
    },
    {
     "name": "stdout",
     "output_type": "stream",
     "text": [
      "12\n",
      "\n",
      "Question 2: Generate a 2-dimensional array\n"
     ]
    },
    {
     "name": "stdin",
     "output_type": "stream",
     "text": [
      "Enter two digits (X,Y):  6,7\n"
     ]
    },
    {
     "name": "stdout",
     "output_type": "stream",
     "text": [
      "[0, 0, 0, 0, 0, 0, 0]\n",
      "[0, 1, 2, 3, 4, 5, 6]\n",
      "[0, 2, 4, 6, 8, 10, 12]\n",
      "[0, 3, 6, 9, 12, 15, 18]\n",
      "[0, 4, 8, 12, 16, 20, 24]\n",
      "[0, 5, 10, 15, 20, 25, 30]\n",
      "\n",
      "Question 3: Sort comma separated sequence of words\n"
     ]
    },
    {
     "name": "stdin",
     "output_type": "stream",
     "text": [
      "Enter comma separated words:  43\n"
     ]
    },
    {
     "name": "stdout",
     "output_type": "stream",
     "text": [
      "43\n",
      "\n",
      "Question 4: Remove duplicate words and sort them alphanumerically\n"
     ]
    },
    {
     "name": "stdin",
     "output_type": "stream",
     "text": [
      "Enter whitespace separated words:  66\n"
     ]
    },
    {
     "name": "stdout",
     "output_type": "stream",
     "text": [
      "66\n",
      "\n",
      "Question 5: Count letters and digits in a sentence\n"
     ]
    },
    {
     "name": "stdin",
     "output_type": "stream",
     "text": [
      "Enter a sentence:  I want to Know that 81 is greater or 89\n"
     ]
    },
    {
     "name": "stdout",
     "output_type": "stream",
     "text": [
      "LETTERS 26\n",
      "DIGITS 4\n",
      "\n",
      "Question 6: Validate password according to given criteria\n"
     ]
    },
    {
     "name": "stdin",
     "output_type": "stream",
     "text": [
      "Enter comma separated passwords:  Admin@1234\n"
     ]
    },
    {
     "name": "stdout",
     "output_type": "stream",
     "text": [
      "Admin@1234\n"
     ]
    }
   ],
   "source": [
    "import math\n",
    "import re\n",
    "\n",
    "# Question 1: Calculate Q using the given formula\n",
    "def calculate_Q(D_values):\n",
    "    C = 50\n",
    "    H = 30\n",
    "    result = []\n",
    "    for D in D_values:\n",
    "        Q = math.sqrt((2 * C * D) / H)\n",
    "        result.append(int(Q))  # Convert to integer as per the example output\n",
    "    return result\n",
    "\n",
    "# Question 2: Generate a 2-dimensional array\n",
    "def generate_array(X, Y):\n",
    "    return [[i * j for j in range(Y)] for i in range(X)]\n",
    "\n",
    "# Question 3: Sort comma separated sequence of words\n",
    "def sort_words():\n",
    "    words = input(\"Enter comma separated words: \").split(\",\")\n",
    "    words.sort()\n",
    "    print(\",\".join(words))\n",
    "\n",
    "# Question 4: Remove duplicate words and sort them alphanumerically\n",
    "def remove_duplicates_and_sort():\n",
    "    words = input(\"Enter whitespace separated words: \").split()\n",
    "    unique_words = sorted(set(words))\n",
    "    print(\" \".join(unique_words))\n",
    "\n",
    "# Question 5: Count letters and digits in a sentence\n",
    "def count_letters_and_digits():\n",
    "    sentence = input(\"Enter a sentence: \")\n",
    "    letters = sum(c.isalpha() for c in sentence)\n",
    "    digits = sum(c.isdigit() for c in sentence)\n",
    "    print(f\"LETTERS {letters}\")\n",
    "    print(f\"DIGITS {digits}\")\n",
    "\n",
    "# Question 6: Validate password according to given criteria\n",
    "def validate_password(password):\n",
    "    if (6 <= len(password) <= 12 and\n",
    "        re.search(\"[a-z]\", password) and\n",
    "        re.search(\"[A-Z]\", password) and\n",
    "        re.search(\"[0-9]\", password) and\n",
    "        re.search(\"[$#@]\", password)):\n",
    "        return True\n",
    "    return False\n",
    "\n",
    "def check_passwords():\n",
    "    passwords = input(\"Enter comma separated passwords: \").split(\",\")\n",
    "    valid_passwords = [password for password in passwords if validate_password(password)]\n",
    "    print(\" \".join(valid_passwords))\n",
    "\n",
    "# Main execution starts here\n",
    "\n",
    "print(\"Question 1: Calculate Q using the given formula\")\n",
    "D_values = [int(i) for i in input(\"Enter comma separated values of D: \").split(\",\")]\n",
    "result = calculate_Q(D_values)\n",
    "print(\",\".join(map(str, result)))\n",
    "\n",
    "print(\"\\nQuestion 2: Generate a 2-dimensional array\")\n",
    "X, Y = map(int, input(\"Enter two digits (X,Y): \").split(\",\"))\n",
    "array = generate_array(X, Y)\n",
    "for row in array:\n",
    "    print(row)\n",
    "\n",
    "print(\"\\nQuestion 3: Sort comma separated sequence of words\")\n",
    "sort_words()\n",
    "\n",
    "print(\"\\nQuestion 4: Remove duplicate words and sort them alphanumerically\")\n",
    "remove_duplicates_and_sort()\n",
    "\n",
    "print(\"\\nQuestion 5: Count letters and digits in a sentence\")\n",
    "count_letters_and_digits()\n",
    "\n",
    "print(\"\\nQuestion 6: Validate password according to given criteria\")\n",
    "check_passwords()\n"
   ]
  },
  {
   "cell_type": "code",
   "execution_count": null,
   "id": "113a79f4-3fc5-4e44-abb6-0af41ade71cb",
   "metadata": {},
   "outputs": [],
   "source": []
  }
 ],
 "metadata": {
  "kernelspec": {
   "display_name": "Python [conda env:base] *",
   "language": "python",
   "name": "conda-base-py"
  },
  "language_info": {
   "codemirror_mode": {
    "name": "ipython",
    "version": 3
   },
   "file_extension": ".py",
   "mimetype": "text/x-python",
   "name": "python",
   "nbconvert_exporter": "python",
   "pygments_lexer": "ipython3",
   "version": "3.12.7"
  }
 },
 "nbformat": 4,
 "nbformat_minor": 5
}
