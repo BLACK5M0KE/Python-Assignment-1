{
 "cells": [
  {
   "cell_type": "code",
   "execution_count": null,
   "id": "92611241-aa81-4272-b459-cd9f532b1bea",
   "metadata": {},
   "outputs": [],
   "source": [
    "# 1. Identify values and expressions\n",
    "# Expressions contain operators, values are numbers or strings\n",
    "values_and_expressions = {\n",
    "    \"*\": \"Expression (multiplication operator)\",\n",
    "    \"'hello'\": \"Value (string)\",\n",
    "    \"-87.8\": \"Value (floating-point number)\",\n",
    "    \"-\": \"Expression (subtraction operator)\",\n",
    "    \"/\": \"Expression (division operator)\",\n",
    "    \"6\": \"Value (integer)\"\n",
    "}\n",
    "\n",
    "# 2. Difference between string and variable\n",
    "string_example = \"Hello\"  # A string is a sequence of characters\n",
    "variable_example = string_example  # A variable stores a value\n",
    "\n",
    "# 3. Three different data types\n",
    "data_types = {\n",
    "    \"int\": 10,  # Integer\n",
    "    \"float\": 3.14,  # Floating-point number\n",
    "    \"str\": \"Python\"  # String\n",
    "}\n",
    "\n",
    "# 4. What is an expression made up of?\n",
    "expression = 2 + 3 * 4  # Expressions contain values, operators, and variables\n",
    "\n",
    "# 5. Difference between an expression and a statement\n",
    "expression_example = 5 + 3  # This evaluates to 8\n",
    "statement_example = \"x = 5\"  # This assigns 5 to x but does not return a value\n",
    "\n",
    "# 6. What does bacon contain?\n",
    "bacon = 22\n",
    "bacon + 1  # This does not change bacon\n",
    "# To update bacon:\n",
    "bacon = bacon + 1  # Now bacon is 23\n",
    "\n",
    "# 7. Values of expressions\n",
    "expr1 = 'spam' + 'spamspam'  # 'spamspamspam'\n",
    "expr2 = 'spam' * 3  # 'spamspamspam'\n",
    "\n",
    "# 8. Why is eggs valid but 100 invalid as a variable name?\n",
    "eggs = \"valid\"  # Variables must start with a letter\n",
    "# 100 = \"invalid\"  # This would cause a SyntaxError\n",
    "\n",
    "# 9. Functions to convert values\n",
    "def convert_values(value):\n",
    "    return {\n",
    "        \"integer\": int(value),\n",
    "        \"float\": float(value),\n",
    "        \"string\": str(value)\n",
    "    }\n",
    "\n",
    "# 10. Fixing the error in string concatenation\n",
    "# 'I have eaten ' + 99 + ' burritos.'  # Causes TypeError\n",
    "fixed_string = 'I have eaten ' + str(99) + ' burritos.'  # Corrected\n"
   ]
  }
 ],
 "metadata": {
  "kernelspec": {
   "display_name": "Python [conda env:base] *",
   "language": "python",
   "name": "conda-base-py"
  },
  "language_info": {
   "codemirror_mode": {
    "name": "ipython",
    "version": 3
   },
   "file_extension": ".py",
   "mimetype": "text/x-python",
   "name": "python",
   "nbconvert_exporter": "python",
   "pygments_lexer": "ipython3",
   "version": "3.12.7"
  }
 },
 "nbformat": 4,
 "nbformat_minor": 5
}
