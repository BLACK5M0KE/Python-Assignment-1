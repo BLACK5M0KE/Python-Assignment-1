{
 "cells": [
  {
   "cell_type": "code",
   "execution_count": 1,
   "id": "e4af786b-2052-4ec9-901f-272e3d4b80d1",
   "metadata": {},
   "outputs": [
    {
     "name": "stdout",
     "output_type": "stream",
     "text": [
      "1 2 8\n",
      "1 2 3\n",
      "1 (2, 3)\n",
      "1 {'c': 3, 'b': 2}\n",
      "1 5 6 5\n",
      "1 ['x'] {'a': 'y'}\n"
     ]
    }
   ],
   "source": [
    "# Task 1: Function with default values for b and c\n",
    "def func1(a, b=6, c=8):\n",
    "    print(a, b, c)\n",
    "\n",
    "# Calling the function with 1 and 2 as arguments\n",
    "func1(1, 2)  # Output: 1 2 8\n",
    "\n",
    "\n",
    "# Task 2: Function with positional and keyword arguments\n",
    "def func2(a, b, c=5):\n",
    "    print(a, b, c)\n",
    "\n",
    "# Calling the function with keyword arguments for b and c\n",
    "func2(1, c=3, b=2)  # Output: 1 2 3\n",
    "\n",
    "\n",
    "# Task 3: Function with *args (variable number of positional arguments)\n",
    "def func3(a, *pargs):\n",
    "    print(a, pargs)\n",
    "\n",
    "# Calling the function with 1, 2, and 3 as arguments\n",
    "func3(1, 2, 3)  # Output: 1 (2, 3)\n",
    "\n",
    "\n",
    "# Task 4: Function with **kwargs (variable number of keyword arguments)\n",
    "def func4(a, **kargs):\n",
    "    print(a, kargs)\n",
    "\n",
    "# Calling the function with keyword arguments\n",
    "func4(a=1, c=3, b=2)  # Output: 1 {'c': 3, 'b': 2}\n",
    "\n",
    "\n",
    "# Task 5: Function unpacking arguments\n",
    "def func5(a, b, c=8, d=5):\n",
    "    print(a, b, c, d)\n",
    "\n",
    "# Using tuple unpacking for arguments\n",
    "func5(1, *(5, 6))  # Output: 1 5 6 5\n",
    "\n",
    "\n",
    "# Task 6: Function modifying mutable objects (list and dictionary)\n",
    "def func6(a, b, c):\n",
    "    a = 2  # This does not affect the original value of `a`\n",
    "    b[0] = 'x'  # Modifies the list in place\n",
    "    c['a'] = 'y'  # Modifies the dictionary in place\n",
    "\n",
    "l = 1\n",
    "m = [1]\n",
    "n = {'a': 0}\n",
    "\n",
    "func6(l, m, n)  # Function call\n",
    "print(l, m, n)  # Output: 1 ['x'] {'a': 'y'}\n"
   ]
  },
  {
   "cell_type": "code",
   "execution_count": null,
   "id": "2d728e19-0929-42ee-b2df-2eadecbea743",
   "metadata": {},
   "outputs": [],
   "source": []
  }
 ],
 "metadata": {
  "kernelspec": {
   "display_name": "Python [conda env:base] *",
   "language": "python",
   "name": "conda-base-py"
  },
  "language_info": {
   "codemirror_mode": {
    "name": "ipython",
    "version": 3
   },
   "file_extension": ".py",
   "mimetype": "text/x-python",
   "name": "python",
   "nbconvert_exporter": "python",
   "pygments_lexer": "ipython3",
   "version": "3.12.7"
  }
 },
 "nbformat": 4,
 "nbformat_minor": 5
}
