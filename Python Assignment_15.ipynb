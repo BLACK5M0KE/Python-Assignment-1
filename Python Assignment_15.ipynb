{
 "cells": [
  {
   "cell_type": "code",
   "execution_count": null,
   "id": "bd58ce6e-64da-400b-a7dc-9211062793d1",
   "metadata": {},
   "outputs": [],
   "source": [
    "# 1. How many seconds are in an hour? Use the interactive interpreter as a calculator.\n",
    "seconds_in_minute = 60\n",
    "minutes_in_hour = 60\n",
    "seconds_in_hour = seconds_in_minute * minutes_in_hour\n",
    "print(seconds_in_hour)  # Should print 3600\n",
    "\n",
    "# 2. Assign the result from the previous task (seconds in an hour) to a variable called seconds_per_hour.\n",
    "seconds_per_hour = seconds_in_hour\n",
    "print(seconds_per_hour)  # Should print 3600\n",
    "\n",
    "# 3. How many seconds do you think there are in a day? Use the variables seconds_per_hour and minutes_per_hour.\n",
    "hours_in_day = 24\n",
    "seconds_per_day = seconds_per_hour * hours_in_day\n",
    "print(seconds_per_day)  # Should print 86400\n",
    "\n",
    "# 4. Calculate seconds per day again, but this time save the result in a variable called seconds_per_day.\n",
    "# This was already done in the previous step.\n",
    "\n",
    "# 5. Divide seconds_per_day by seconds_per_hour. Use floating-point (/) division.\n",
    "division_float = seconds_per_day / seconds_per_hour\n",
    "print(division_float)  # Should print 24.0\n",
    "\n",
    "# 6. Divide seconds_per_day by seconds_per_hour, using integer (//) division.\n",
    "division_int = seconds_per_day // seconds_per_hour\n",
    "print(division_int)  # Should print 24\n",
    "\n",
    "# Did this number agree with the floating-point value from the previous question, aside from the final .0?\n",
    "# Yes, both should be 24, except the floating-point division results in a .0 (24.0).\n",
    "\n",
    "# 7. Write a generator, genPrimes, that returns the sequence of prime numbers on successive calls to its next() method.\n",
    "def genPrimes():\n",
    "    primes = []\n",
    "    num = 2  # Start with the first prime number\n",
    "    while True:\n",
    "        is_prime = True\n",
    "        for prime in primes:\n",
    "            if num % prime == 0:\n",
    "                is_prime = False\n",
    "                break\n",
    "        if is_prime:\n",
    "            primes.append(num)\n",
    "            yield num\n",
    "        num += 1\n",
    "\n",
    "# To test the genPrimes generator:\n",
    "prime_gen = genPrimes()\n",
    "for _ in range(10):  # Print the first 10 primes\n",
    "    print(next(prime_gen))  # This will print 2, 3, 5, 7, 11, 13, 17, 19, 23, 29\n"
   ]
  }
 ],
 "metadata": {
  "kernelspec": {
   "display_name": "Python [conda env:base] *",
   "language": "python",
   "name": "conda-base-py"
  },
  "language_info": {
   "codemirror_mode": {
    "name": "ipython",
    "version": 3
   },
   "file_extension": ".py",
   "mimetype": "text/x-python",
   "name": "python",
   "nbconvert_exporter": "python",
   "pygments_lexer": "ipython3",
   "version": "3.12.7"
  }
 },
 "nbformat": 4,
 "nbformat_minor": 5
}
