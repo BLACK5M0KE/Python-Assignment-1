{
 "cells": [
  {
   "cell_type": "code",
   "execution_count": 2,
   "id": "fd0ccbfe-e5f0-4d0b-9b73-86379bcf1fb9",
   "metadata": {},
   "outputs": [
    {
     "name": "stdout",
     "output_type": "stream",
     "text": [
      "10 kilometers is equal to 6.21371 miles.\n",
      "25°C is equal to 77.0°F.\n",
      "      May 2023\n",
      "Mo Tu We Th Fr Sa Su\n",
      " 1  2  3  4  5  6  7\n",
      " 8  9 10 11 12 13 14\n",
      "15 16 17 18 19 20 21\n",
      "22 23 24 25 26 27 28\n",
      "29 30 31\n",
      "\n",
      "The roots are 2.0 and 1.0.\n",
      "Before swap: a = 5, b = 10\n",
      "After swap: a = 10, b = 5\n"
     ]
    }
   ],
   "source": [
    "# 1. Write a Python program to convert kilometers to miles\n",
    "def km_to_miles(km):\n",
    "    miles = km * 0.621371\n",
    "    print(f\"{km} kilometers is equal to {miles} miles.\")\n",
    "\n",
    "km_to_miles(10)\n",
    "\n",
    "# 2. Write a Python program to convert Celsius to Fahrenheit\n",
    "def celsius_to_fahrenheit(celsius):\n",
    "    fahrenheit = (celsius * 9/5) + 32\n",
    "    print(f\"{celsius}°C is equal to {fahrenheit}°F.\")\n",
    "\n",
    "celsius_to_fahrenheit(25)\n",
    "\n",
    "# 3. Write a Python program to display calendar\n",
    "import calendar\n",
    "\n",
    "def display_calendar(year, month):\n",
    "    print(calendar.month(year, month))\n",
    "\n",
    "# Display the calendar for May 2023\n",
    "display_calendar(2023, 5)\n",
    "\n",
    "# 4. Write a Python program to solve quadratic equation\n",
    "import math\n",
    "\n",
    "def solve_quadratic(a, b, c):\n",
    "    discriminant = b**2 - 4*a*c\n",
    "    if discriminant > 0:\n",
    "        root1 = (-b + math.sqrt(discriminant)) / (2 * a)\n",
    "        root2 = (-b - math.sqrt(discriminant)) / (2 * a)\n",
    "        print(f\"The roots are {root1} and {root2}.\")\n",
    "    elif discriminant == 0:\n",
    "        root = -b / (2 * a)\n",
    "        print(f\"The root is {root}.\")\n",
    "    else:\n",
    "        print(\"No real roots.\")\n",
    "\n",
    "solve_quadratic(1, -3, 2)\n",
    "\n",
    "# 5. Write a Python program to swap two variables without temp variable\n",
    "def swap_without_temp(a, b):\n",
    "    print(f\"Before swap: a = {a}, b = {b}\")\n",
    "    a, b = b, a  # Swap logic without temp variable\n",
    "    print(f\"After swap: a = {a}, b = {b}\")\n",
    "\n",
    "swap_without_temp(5, 10)\n"
   ]
  },
  {
   "cell_type": "code",
   "execution_count": null,
   "id": "8d02cb17-227a-4208-af35-73dd8ecabdd4",
   "metadata": {},
   "outputs": [],
   "source": []
  }
 ],
 "metadata": {
  "kernelspec": {
   "display_name": "Python [conda env:base] *",
   "language": "python",
   "name": "conda-base-py"
  },
  "language_info": {
   "codemirror_mode": {
    "name": "ipython",
    "version": 3
   },
   "file_extension": ".py",
   "mimetype": "text/x-python",
   "name": "python",
   "nbconvert_exporter": "python",
   "pygments_lexer": "ipython3",
   "version": "3.12.7"
  }
 },
 "nbformat": 4,
 "nbformat_minor": 5
}
