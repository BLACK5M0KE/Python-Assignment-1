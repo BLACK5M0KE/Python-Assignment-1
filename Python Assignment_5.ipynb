{
 "cells": [
  {
   "cell_type": "code",
   "execution_count": null,
   "id": "b8f36eff-9c01-47e4-8093-9cbbf3b3d348",
   "metadata": {},
   "outputs": [],
   "source": [
    "# 1. What does an empty dictionary's code look like?\n",
    "empty_dict = {}  # An empty dictionary\n",
    "\n",
    "# 2. What is the value of a dictionary with the key 'foo' and the value 42?\n",
    "my_dict = {'foo': 42}\n",
    "print(my_dict['foo'])  # Output: 42\n",
    "\n",
    "# 3. Most significant distinction between a dictionary and a list\n",
    "# - A dictionary is an unordered collection of key-value pairs.\n",
    "# - A list is an ordered collection of elements indexed by position.\n",
    "\n",
    "# 4. What happens if you try to access spam['foo'] if spam is {'bar': 100}?\n",
    "spam = {'bar': 100}\n",
    "# print(spam['foo'])  # Raises a KeyError since 'foo' is not in spam\n",
    "\n",
    "# 5. Difference between 'cat' in spam and 'cat' in spam.keys()\n",
    "spam = {'cat': 10, 'dog': 20}\n",
    "print('cat' in spam)         # Output: True (checks if 'cat' is a key)\n",
    "print('cat' in spam.keys())  # Output: True (explicitly checking keys, but redundant)\n",
    "\n",
    "# 6. Difference between 'cat' in spam and 'cat' in spam.values()\n",
    "print('cat' in spam)         # Output: True (checks if 'cat' is a key)\n",
    "print('cat' in spam.values())  # Output: False (checks if 'cat' is a value, which it is not)\n",
    "\n",
    "# 7. Shortcut for:\n",
    "# if 'color' not in spam:\n",
    "#     spam['color'] = 'black'\n",
    "spam.setdefault('color', 'black')\n",
    "print(spam)  # Output: {'cat': 10, 'dog': 20, 'color': 'black'}\n",
    "\n",
    "# 8. How to pretty-print dictionary values\n",
    "import pprint\n",
    "sample_dict = {'name': 'Alice', 'age': 25, 'city': 'New York'}\n",
    "pprint.pprint(sample_dict)  # Pretty prints the dictionary\n"
   ]
  }
 ],
 "metadata": {
  "kernelspec": {
   "display_name": "Python [conda env:base] *",
   "language": "python",
   "name": "conda-base-py"
  },
  "language_info": {
   "codemirror_mode": {
    "name": "ipython",
    "version": 3
   },
   "file_extension": ".py",
   "mimetype": "text/x-python",
   "name": "python",
   "nbconvert_exporter": "python",
   "pygments_lexer": "ipython3",
   "version": "3.12.7"
  }
 },
 "nbformat": 4,
 "nbformat_minor": 5
}
