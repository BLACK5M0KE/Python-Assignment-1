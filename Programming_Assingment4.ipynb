{
 "cells": [
  {
   "cell_type": "code",
   "execution_count": 2,
   "id": "a14a8b91-5938-40b2-bd27-1623a717e9ca",
   "metadata": {},
   "outputs": [
    {
     "name": "stdout",
     "output_type": "stream",
     "text": [
      "Factorial of 5: 120\n",
      "Factorial of 0: 1\n",
      "Factorial of -3: Factorial does not exist for negative numbers\n",
      "5 x 1 = 5\n",
      "5 x 2 = 10\n",
      "5 x 3 = 15\n",
      "5 x 4 = 20\n",
      "5 x 5 = 25\n",
      "5 x 6 = 30\n",
      "5 x 7 = 35\n",
      "5 x 8 = 40\n",
      "5 x 9 = 45\n",
      "5 x 10 = 50\n",
      "Fibonacci sequence up to 100:\n",
      "0 1 1 2 3 5 8 13 21 34 55 89 Is 153 an Armstrong number? True\n",
      "Is 123 an Armstrong number? False\n",
      "Armstrong numbers between 1 and 1000: [1, 2, 3, 4, 5, 6, 7, 8, 9, 153, 370, 371, 407]\n",
      "Sum of natural numbers up to 10: 55\n",
      "Sum of natural numbers up to -5: Sum does not exist for negative numbers\n"
     ]
    }
   ],
   "source": [
    "# 1. Write a Python Program to Find the Factorial of a Number\n",
    "def factorial(num):\n",
    "    if num < 0:\n",
    "        return \"Factorial does not exist for negative numbers\"\n",
    "    result = 1\n",
    "    for i in range(1, num + 1):\n",
    "        result *= i\n",
    "    return result\n",
    "\n",
    "print(\"Factorial of 5:\", factorial(5))\n",
    "print(\"Factorial of 0:\", factorial(0))\n",
    "print(\"Factorial of -3:\", factorial(-3))\n",
    "\n",
    "# 2. Write a Python Program to Display the Multiplication Table\n",
    "def multiplication_table(num):\n",
    "    for i in range(1, 11):\n",
    "        print(f\"{num} x {i} = {num * i}\")\n",
    "\n",
    "multiplication_table(5)\n",
    "\n",
    "# 3. Write a Python Program to Print the Fibonacci Sequence\n",
    "def fibonacci(n):\n",
    "    a, b = 0, 1\n",
    "    print(a, end=\" \")\n",
    "    while b < n:\n",
    "        print(b, end=\" \")\n",
    "        a, b = b, a + b\n",
    "\n",
    "print(\"Fibonacci sequence up to 100:\")\n",
    "fibonacci(100)\n",
    "\n",
    "# 4. Write a Python Program to Check Armstrong Number\n",
    "def is_armstrong(num):\n",
    "    num_str = str(num)\n",
    "    length = len(num_str)\n",
    "    total = sum(int(digit) ** length for digit in num_str)\n",
    "    if total == num:\n",
    "        return True\n",
    "    return False\n",
    "\n",
    "print(\"Is 153 an Armstrong number?\", is_armstrong(153))\n",
    "print(\"Is 123 an Armstrong number?\", is_armstrong(123))\n",
    "\n",
    "# 5. Write a Python Program to Find Armstrong Number in an Interval\n",
    "def armstrong_numbers_in_interval(start, end):\n",
    "    armstrong_numbers = []\n",
    "    for num in range(start, end + 1):\n",
    "        if is_armstrong(num):\n",
    "            armstrong_numbers.append(num)\n",
    "    return armstrong_numbers\n",
    "\n",
    "print(\"Armstrong numbers between 1 and 1000:\", armstrong_numbers_in_interval(1, 1000))\n",
    "\n",
    "# 6. Write a Python Program to Find the Sum of Natural Numbers\n",
    "def sum_of_natural_numbers(n):\n",
    "    if n < 0:\n",
    "        return \"Sum does not exist for negative numbers\"\n",
    "    return n * (n + 1) // 2\n",
    "\n",
    "print(\"Sum of natural numbers up to 10:\", sum_of_natural_numbers(10))\n",
    "print(\"Sum of natural numbers up to -5:\", sum_of_natural_numbers(-5))\n"
   ]
  },
  {
   "cell_type": "code",
   "execution_count": null,
   "id": "8cb1e02c-f143-4ec4-9e67-d31c8a804d26",
   "metadata": {},
   "outputs": [],
   "source": []
  }
 ],
 "metadata": {
  "kernelspec": {
   "display_name": "Python [conda env:base] *",
   "language": "python",
   "name": "conda-base-py"
  },
  "language_info": {
   "codemirror_mode": {
    "name": "ipython",
    "version": 3
   },
   "file_extension": ".py",
   "mimetype": "text/x-python",
   "name": "python",
   "nbconvert_exporter": "python",
   "pygments_lexer": "ipython3",
   "version": "3.12.7"
  }
 },
 "nbformat": 4,
 "nbformat_minor": 5
}
