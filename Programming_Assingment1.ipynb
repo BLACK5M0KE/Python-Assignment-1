{
 "cells": [
  {
   "cell_type": "code",
   "execution_count": 2,
   "id": "737c7321-5110-462c-b8a6-cc43cf749c87",
   "metadata": {},
   "outputs": [
    {
     "name": "stdout",
     "output_type": "stream",
     "text": [
      "Hello Python\n",
      "Addition of 10 and 5: 15\n",
      "Division of 10 by 5: 2.0\n",
      "Area of triangle with base 10 and height 5: 25.0\n",
      "Before swap: a = 5, b = 10\n",
      "After swap: a = 10, b = 5\n",
      "Generated random number: 46\n"
     ]
    }
   ],
   "source": [
    "# 1. Write a Python program to print \"Hello Python\"\n",
    "def hello_python():\n",
    "    print(\"Hello Python\")\n",
    "\n",
    "hello_python()\n",
    "\n",
    "# 2. Write a Python program to do arithmetical operations addition and division\n",
    "def arithmetic_operations():\n",
    "    num1 = 10\n",
    "    num2 = 5\n",
    "    \n",
    "    # Addition\n",
    "    addition_result = num1 + num2\n",
    "    print(f\"Addition of {num1} and {num2}: {addition_result}\")\n",
    "    \n",
    "    # Division\n",
    "    division_result = num1 / num2\n",
    "    print(f\"Division of {num1} by {num2}: {division_result}\")\n",
    "\n",
    "arithmetic_operations()\n",
    "\n",
    "# 3. Write a Python program to find the area of a triangle\n",
    "def area_of_triangle(base, height):\n",
    "    area = 0.5 * base * height\n",
    "    print(f\"Area of triangle with base {base} and height {height}: {area}\")\n",
    "\n",
    "area_of_triangle(10, 5)\n",
    "\n",
    "# 4. Write a Python program to swap two variables\n",
    "def swap_variables():\n",
    "    a = 5\n",
    "    b = 10\n",
    "    print(f\"Before swap: a = {a}, b = {b}\")\n",
    "    \n",
    "    # Swap logic\n",
    "    a, b = b, a\n",
    "    print(f\"After swap: a = {a}, b = {b}\")\n",
    "\n",
    "swap_variables()\n",
    "\n",
    "# 5. Write a Python program to generate a random number\n",
    "import random\n",
    "\n",
    "def generate_random_number():\n",
    "    random_number = random.randint(1, 100)\n",
    "    print(f\"Generated random number: {random_number}\")\n",
    "\n",
    "generate_random_number()\n"
   ]
  },
  {
   "cell_type": "code",
   "execution_count": null,
   "id": "9e354a5a-dae1-46a7-9b3a-db22eb8e09f3",
   "metadata": {},
   "outputs": [],
   "source": []
  }
 ],
 "metadata": {
  "kernelspec": {
   "display_name": "Python [conda env:base] *",
   "language": "python",
   "name": "conda-base-py"
  },
  "language_info": {
   "codemirror_mode": {
    "name": "ipython",
    "version": 3
   },
   "file_extension": ".py",
   "mimetype": "text/x-python",
   "name": "python",
   "nbconvert_exporter": "python",
   "pygments_lexer": "ipython3",
   "version": "3.12.7"
  }
 },
 "nbformat": 4,
 "nbformat_minor": 5
}
