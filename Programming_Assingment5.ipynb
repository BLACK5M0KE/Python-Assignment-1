{
 "cells": [
  {
   "cell_type": "code",
   "execution_count": 2,
   "id": "0f2d867b-e592-4aca-b3a3-adde8d7dc34a",
   "metadata": {},
   "outputs": [
    {
     "name": "stdout",
     "output_type": "stream",
     "text": [
      "LCM of 12 and 15: 60\n",
      "HCF of 12 and 15: 3\n",
      "Decimal: 42, Binary: 101010, Octal: 52, Hexadecimal: 2a\n",
      "ASCII value of 'A': 65\n",
      "ASCII value of 'a': 97\n"
     ]
    }
   ],
   "source": [
    "# 1. Write a Python Program to Find LCM (Least Common Multiple)\n",
    "def lcm(a, b):\n",
    "    # Calculate LCM using the formula LCM(a, b) = (a * b) / HCF(a, b)\n",
    "    def hcf(x, y):\n",
    "        while y:\n",
    "            x, y = y, x % y\n",
    "        return x\n",
    "\n",
    "    return (a * b) // hcf(a, b)\n",
    "\n",
    "print(\"LCM of 12 and 15:\", lcm(12, 15))\n",
    "\n",
    "# 2. Write a Python Program to Find HCF (Highest Common Factor)\n",
    "def hcf(a, b):\n",
    "    while b:\n",
    "        a, b = b, a % b\n",
    "    return a\n",
    "\n",
    "print(\"HCF of 12 and 15:\", hcf(12, 15))\n",
    "\n",
    "# 3. Write a Python Program to Convert Decimal to Binary, Octal and Hexadecimal\n",
    "def convert_number(decimal):\n",
    "    binary = bin(decimal)[2:]  # Remove the '0b' prefix\n",
    "    octal = oct(decimal)[2:]   # Remove the '0o' prefix\n",
    "    hexadecimal = hex(decimal)[2:]  # Remove the '0x' prefix\n",
    "    return binary, octal, hexadecimal\n",
    "\n",
    "decimal_number = 42\n",
    "binary, octal, hexadecimal = convert_number(decimal_number)\n",
    "print(f\"Decimal: {decimal_number}, Binary: {binary}, Octal: {octal}, Hexadecimal: {hexadecimal}\")\n",
    "\n",
    "# 4. Write a Python Program To Find ASCII value of a character\n",
    "def ascii_value(character):\n",
    "    return ord(character)\n",
    "\n",
    "print(\"ASCII value of 'A':\", ascii_value('A'))\n",
    "print(\"ASCII value of 'a':\", ascii_value('a'))\n",
    "\n",
    "# 5. Write a Python Program to Make a Simple Calculator with 4 basic mathematical operations\n",
    "def calculator():\n",
    "    print(\"Select operation:\")\n",
    "    print(\"1. Add\")\n",
    "    print(\"2. Subtract\")\n",
    "    print(\"3. Multiply\")\n",
    "    print(\"4. Divide\")\n",
    "\n",
    "    choice = input(\"Enter choice (1/2/3/4): \")\n",
    "\n",
    "    num1 = float(input(\"Enter first number: \"))\n",
    "    num2 = float(input(\"Enter second number: \"))\n",
    "\n",
    "    if choice == '1':\n",
    "        print(f\"{num1} + {num2} = {num1 + num2}\")\n",
    "    elif choice == '2':\n",
    "        print(f\"{num1} - {num2} = {num1 - num2}\")\n",
    "    elif choice == '3':\n",
    "        print(f\"{num1} * {num2} = {num1 * num2}\")\n",
    "    elif choice == '4':\n",
    "        if num2 != 0:\n",
    "            print(f\"{num1} / {num2} = {num1 / num2}\")\n",
    "        else:\n",
    "            print(\"Error! Division by zero.\")\n",
    "    else:\n",
    "        print(\"Invalid input\")\n",
    "\n",
    "# Uncomment the line below to run the calculator\n",
    "# calculator()\n"
   ]
  },
  {
   "cell_type": "code",
   "execution_count": null,
   "id": "436afd36-30f1-4dcf-a4de-a16d2b4f8fdb",
   "metadata": {},
   "outputs": [],
   "source": []
  }
 ],
 "metadata": {
  "kernelspec": {
   "display_name": "Python [conda env:base] *",
   "language": "python",
   "name": "conda-base-py"
  },
  "language_info": {
   "codemirror_mode": {
    "name": "ipython",
    "version": 3
   },
   "file_extension": ".py",
   "mimetype": "text/x-python",
   "name": "python",
   "nbconvert_exporter": "python",
   "pygments_lexer": "ipython3",
   "version": "3.12.7"
  }
 },
 "nbformat": 4,
 "nbformat_minor": 5
}
