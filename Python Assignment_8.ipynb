{
 "cells": [
  {
   "cell_type": "code",
   "execution_count": null,
   "id": "5edd0013-7f1a-41e5-8817-fc0caa7c8fbe",
   "metadata": {},
   "outputs": [],
   "source": [
    "# 1. Is the Python Standard Library included with PyInputPlus?\n",
    "# No, PyInputPlus is a third-party library. It is not part of the Python Standard Library.\n",
    "# You need to install it separately using pip: \n",
    "# pip install pyinputplus\n",
    "\n",
    "# 2. Why is PyInputPlus commonly imported with import pyinputplus as pypi?\n",
    "# PyInputPlus is often imported as `pypi` for convenience, especially to shorten the code when calling its functions.\n",
    "import pyinputplus as pypi\n",
    "\n",
    "# 3. How do you distinguish between inputInt() and inputFloat()?\n",
    "# `inputInt()` is used to accept an integer input, whereas `inputFloat()` is used for accepting a float.\n",
    "int_input = pypi.inputInt(prompt=\"Enter an integer: \")\n",
    "float_input = pypi.inputFloat(prompt=\"Enter a float: \")\n",
    "\n",
    "# 4. Using PyInputPlus, how do you ensure that the user enters a whole number between 0 and 99?\n",
    "# You can specify a range for inputInt using the `min` and `max` parameters.\n",
    "whole_number = pypi.inputInt(prompt=\"Enter a whole number between 0 and 99: \", min=0, max=99)\n",
    "\n",
    "# 5. What is transferred to the keyword arguments allowRegexes and blockRegexes?\n",
    "# `allowRegexes` allows the user to input values that match the given regular expression, while `blockRegexes` blocks input that matches the specified regex.\n",
    "allow_input = pypi.inputStr(prompt=\"Enter a string: \", allowRegexes=[r'\\d{3}'])\n",
    "blocked_input = pypi.inputStr(prompt=\"Enter a string: \", blockRegexes=[r'\\d{4}'])\n",
    "\n",
    "# 6. If a blank input is entered three times, what does inputStr(limit=3) do?\n",
    "# If the user enters a blank input three times, the `inputStr()` function will raise a `ValidationException` by default.\n",
    "input_value = pypi.inputStr(prompt=\"Enter a string: \", limit=3)\n",
    "\n",
    "# 7. If blank input is entered three times, what does inputStr(limit=3, default='hello') do?\n",
    "# If the user enters blank input three times, the `default` keyword argument will return the default value specified (in this case, 'hello').\n",
    "input_value_with_default = pypi.inputStr(prompt=\"Enter a string: \", limit=3, default='hello')\n"
   ]
  }
 ],
 "metadata": {
  "kernelspec": {
   "display_name": "Python [conda env:base] *",
   "language": "python",
   "name": "conda-base-py"
  },
  "language_info": {
   "codemirror_mode": {
    "name": "ipython",
    "version": 3
   },
   "file_extension": ".py",
   "mimetype": "text/x-python",
   "name": "python",
   "nbconvert_exporter": "python",
   "pygments_lexer": "ipython3",
   "version": "3.12.7"
  }
 },
 "nbformat": 4,
 "nbformat_minor": 5
}
