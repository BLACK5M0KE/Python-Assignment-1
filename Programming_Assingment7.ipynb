{
 "cells": [
  {
   "cell_type": "code",
   "execution_count": 2,
   "id": "00d0f16b-9786-4182-bf2a-4163578c9f0f",
   "metadata": {},
   "outputs": [
    {
     "name": "stdin",
     "output_type": "stream",
     "text": [
      "Enter array elements separated by spaces:  22\n"
     ]
    },
    {
     "name": "stdout",
     "output_type": "stream",
     "text": [
      "The sum of the array is: 22\n"
     ]
    },
    {
     "name": "stdin",
     "output_type": "stream",
     "text": [
      "\n",
      "Enter array elements separated by spaces:  10\n"
     ]
    },
    {
     "name": "stdout",
     "output_type": "stream",
     "text": [
      "The largest element in the array is: 10\n"
     ]
    },
    {
     "name": "stdin",
     "output_type": "stream",
     "text": [
      "\n",
      "Enter array elements separated by spaces:  55\n",
      "Enter the number of positions to rotate the array:  2\n"
     ]
    },
    {
     "name": "stdout",
     "output_type": "stream",
     "text": [
      "Array after rotation: [55]\n"
     ]
    },
    {
     "name": "stdin",
     "output_type": "stream",
     "text": [
      "\n",
      "Enter array elements separated by spaces:  698\n",
      "Enter the position to split the array:  3\n"
     ]
    },
    {
     "name": "stdout",
     "output_type": "stream",
     "text": [
      "Array after splitting and adding first part to the end: [698]\n"
     ]
    },
    {
     "name": "stdin",
     "output_type": "stream",
     "text": [
      "\n",
      "Enter array elements separated by spaces:  555\n"
     ]
    },
    {
     "name": "stdout",
     "output_type": "stream",
     "text": [
      "The array is monotonic.\n"
     ]
    }
   ],
   "source": [
    "# 1. Write a Python Program to find sum of array\n",
    "def sum_of_array(arr):\n",
    "    return sum(arr)\n",
    "\n",
    "arr = [int(x) for x in input(\"Enter array elements separated by spaces: \").split()]\n",
    "print(f\"The sum of the array is: {sum_of_array(arr)}\")\n",
    "\n",
    "# 2. Write a Python Program to find largest element in an array\n",
    "def largest_element(arr):\n",
    "    return max(arr)\n",
    "\n",
    "arr = [int(x) for x in input(\"\\nEnter array elements separated by spaces: \").split()]\n",
    "print(f\"The largest element in the array is: {largest_element(arr)}\")\n",
    "\n",
    "# 3. Write a Python Program for array rotation\n",
    "def rotate_array(arr, k):\n",
    "    return arr[k % len(arr):] + arr[:k % len(arr)]\n",
    "\n",
    "arr = [int(x) for x in input(\"\\nEnter array elements separated by spaces: \").split()]\n",
    "k = int(input(\"Enter the number of positions to rotate the array: \"))\n",
    "print(f\"Array after rotation: {rotate_array(arr, k)}\")\n",
    "\n",
    "# 4. Write a Python Program to Split the array and add the first part to the end\n",
    "def split_and_rotate_array(arr, k):\n",
    "    return arr[k:] + arr[:k]\n",
    "\n",
    "arr = [int(x) for x in input(\"\\nEnter array elements separated by spaces: \").split()]\n",
    "k = int(input(\"Enter the position to split the array: \"))\n",
    "print(f\"Array after splitting and adding first part to the end: {split_and_rotate_array(arr, k)}\")\n",
    "\n",
    "# 5. Write a Python Program to check if given array is Monotonic\n",
    "def is_monotonic(arr):\n",
    "    return all(arr[i] <= arr[i + 1] for i in range(len(arr) - 1)) or all(arr[i] >= arr[i + 1] for i in range(len(arr) - 1))\n",
    "\n",
    "arr = [int(x) for x in input(\"\\nEnter array elements separated by spaces: \").split()]\n",
    "if is_monotonic(arr):\n",
    "    print(\"The array is monotonic.\")\n",
    "else:\n",
    "    print(\"The array is not monotonic.\")\n"
   ]
  },
  {
   "cell_type": "code",
   "execution_count": null,
   "id": "816c52bc-c570-4bd9-b555-8e54e9c03bf8",
   "metadata": {},
   "outputs": [],
   "source": []
  }
 ],
 "metadata": {
  "kernelspec": {
   "display_name": "Python [conda env:base] *",
   "language": "python",
   "name": "conda-base-py"
  },
  "language_info": {
   "codemirror_mode": {
    "name": "ipython",
    "version": 3
   },
   "file_extension": ".py",
   "mimetype": "text/x-python",
   "name": "python",
   "nbconvert_exporter": "python",
   "pygments_lexer": "ipython3",
   "version": "3.12.7"
  }
 },
 "nbformat": 4,
 "nbformat_minor": 5
}
